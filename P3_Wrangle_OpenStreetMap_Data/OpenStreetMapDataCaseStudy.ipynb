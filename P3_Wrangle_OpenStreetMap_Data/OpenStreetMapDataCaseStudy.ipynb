{
 "cells": [
  {
   "cell_type": "markdown",
   "metadata": {},
   "source": [
    "# P3: OpenStreetMap Data Case Study\n",
    "\n",
    "## Project Summary\n",
    "\n",
    "In this project, I used the data wrangling techniques, such as assessing the quality of the data for validity, accuracy, completeness, consistency and uniformity, to clean OpenStreetMap data. Then I converted the dataset from XML to CSV format, imported the cleaned .csv files into database, conducted SQL queries to provide a statistical overview of the dataset. Finally, I give some additional suggestions for improving and analyzing the data.\n",
    "\n",
    "\n",
    "## Map Area\n",
    "Amsterdam, North Holland, The Netherlands\n",
    "\n",
    "https://www.openstreetmap.org/relation/271110"
   ]
  },
  {
   "cell_type": "markdown",
   "metadata": {},
   "source": [
    "![](http://localhost:8888/notebooks/Documents/DataScientistLearningPath/GitHubProjects/Udacity_DataAnalystNanodegree/P3_Wrangle-OpenStreetMap-Data/osm_amsterdam.png)"
   ]
  },
  {
   "cell_type": "markdown",
   "metadata": {
    "collapsed": true
   },
   "source": [
    "## Generate Sample Data\n",
    "\n",
    "The original size of the dataset is about 3.15 GB. So use the following code to take a systematic sample of elements from my original OSM region.\n",
    "\n",
    "\n",
    "## Identifying Problems in the Map\n",
    "\n",
    "After taking a 1% (31.5 MB) sample of the 3.15 GB dataset using sample_region.py, I used three techniques to identify problems in the sample:\n",
    "\n",
    "* Scrolling through the Unix less command output to view portions of the data in their original form.\n",
    "* Analyzing the osm_street_audit.py script output to view unusual street names and bus stop names.\n",
    "* Analysing the CSV files created by the osm_csv_creater.py script to view the data (in schema.md format) before and after cleaning code was applied."
   ]
  },
  {
   "cell_type": "markdown",
   "metadata": {},
   "source": [
    "## Problems Encountered in the Map\n",
    "\n",
    "Simplified versions of code cleaning the following problems are presented below.\n",
    "\n",
    "\n",
    "## Inconsistent Street Names\n",
    "\n",
    "Correcting street names and cases.\n",
    "\n",
    "\"Overweerse polderdijk\" to \"Overweersepolderdijk\"\n",
    "\"wielewaallaan\" to \"Wielewaallaan\"\n",
    "\n",
    "I also present bits of the code that I used to tackle with them: (the code that follows is part of osm_ audit_streets.py)"
   ]
  },
  {
   "cell_type": "markdown",
   "metadata": {},
   "source": [
    "```python\n",
    "osmfile = \"amsterdam_netherlands.osm\"\n",
    "street_re = re.compile(r'\\S+(\\s\\S+)*')\n",
    "streets = defaultdict(set)\n",
    "\n",
    "expected_streets = [\"achterburgwal\", \"baan\", \"dam\", \"dijk\", \"gracht\",  \n",
    "                      \"haven\",  \"hof\", \"hoje\",  \"kade\", \"laan\", \"markt\", \"pad\", \"plein\", \"schans\",\n",
    "                      \"straat\", \"voorburgwal\", \"weg\", \"dreef\"]\n",
    "\n",
    "def is_street(elem):\n",
    "    return (elem.attrib['k'] == \"addr:street\")\n",
    "\n",
    "\n",
    "mapping = { \n",
    "                \"de \": \"De\",\n",
    "                \"tt.\": \"Tt.\",\n",
    "                \"passage\" : \"Passage\",\n",
    "                \"mees\": \"Mees\",\n",
    "                \"Overweerse polderdijk\": \"Overweersepolderdijk\",\n",
    "                \"mt.\": \"Mt.\",\n",
    "                \"boulevard\": \"Boulevard\",\n",
    "                \"mees\": \"Mees\",\n",
    "                \"wielewaallaan\": \"Wielewaallaan\"\n",
    "    }\n",
    "\n",
    "def update_street_type(name, mapping):\n",
    "    m = street_re.search(name)\n",
    "    if m:\n",
    "        street_type = m.group()\n",
    "        if  street_type in mapping.keys():\n",
    "            print 'Before: ' , name\n",
    "            name = re.sub(m.group(), mapping[m.group()], name)\n",
    "            print 'After: ', name\n",
    "    return name\n",
    "\n",
    "if __name__ == '__main__':\n",
    "    audit_street(osmfile)\n",
    "\n",
    "```"
   ]
  },
  {
   "cell_type": "markdown",
   "metadata": {},
   "source": [
    "## Incosistent and Incorrect Amenity Types\n",
    "\n",
    "I also checked the amenities type names. I found few erroneous entries related to amenities and city names.\n",
    "\n",
    "\"grand Cafe\" to \"grand_Cafe\"\n",
    "\"doctors;pharnacy;dentist\" to \"medisch_centrum\"\n",
    "\n",
    "I also present bits of the code that I used to tackle with them: (the code that follows is part of osm_ audit_amenities.py)"
   ]
  },
  {
   "cell_type": "markdown",
   "metadata": {},
   "source": [
    "\n",
    "```python\n",
    "osmfile = \"amsterdam_netherlands.osm\"\n",
    "amenity_re = re.compile(r'\\S+(\\s\\S+)*')\n",
    "amenities = defaultdict(set)\n",
    "\n",
    "\n",
    "expected_amenities = [\"ambulance_station\", \"arts_center\", \"atm\", \"bank\", \"bar\",\n",
    "                        \"beauty salon\", \"bowling club\", \"bus_station\", \"cafe\",\n",
    "                        \"car_rental\", \"casino\", \"cinema\",\"club\", \"club_house\", \n",
    "                        \"college\",\"dentist\", \"doctors\", \"fast_food\",\n",
    "                        \"fire_station\", \"fuel\", \"hospital\", \"nightclub\", \"park\", \n",
    "                        \"pharmacy\", \"police\", \"post_office\", \"pub\", \n",
    "                        \"restaurant\", \"school\", \"taxi\", \"telephone\", \"taxi\", \n",
    "                        \"theatre\", \"university\"]\n",
    "\n",
    "def is_amenity(elem):\n",
    "    return (elem.attrib['k'] == \"amenity\")\n",
    "\n",
    "def audit_amenity(osmfile):\n",
    "    street_types = defaultdict(set)\n",
    "    for elem in get_element(osmfile):\n",
    "        if elem.tag == \"node\" or elem.tag == \"way\":\n",
    "            for tag in elem.iter(\"tag\"):\n",
    "                if is_amenity(tag):\n",
    "                    audit_amenities(amenities, tag.attrib['v'])\n",
    "                    # call update_amenity() function:\n",
    "                    update_amenity(tag.attrib['v'],amenity_mapping)\n",
    "    #pprint.pprint(dict(amenities))\n",
    "\n",
    "#audit_amenity(osmfile)\n",
    "\n",
    "amenity_mapping = {\n",
    "                    \"Art\": \"art\",\n",
    "                    \"grand Cafe\": \"grand_cafe\", \n",
    "                    \"Mortgage bank\": \"mortgage_bank\",\n",
    "                    \"doctors;pharnacy;dentist\": \"medisch_centrum\",\n",
    "                    \"first aid\": \"first_aid\",\n",
    "                    \"lock_door storage\": \"lockers\",\n",
    "                    \"Broker\": \"broker\",\n",
    "                    \"Healthcare\": \"healthcare\",\n",
    "                    \"Wellness\" : \"wellness\"\n",
    "    \t\t      }\n",
    "\n",
    "def update_amenity(name, mapping):\n",
    "    m = amenity_re.search(name)\n",
    "    if m:\n",
    "        amenity_type = m.group()\n",
    "        if  amenity_type in mapping.keys():\n",
    "            print 'Before: ' , name\n",
    "            name = re.sub(m.group(), mapping[m.group()], name)\n",
    "            print 'After: ', name\n",
    "    return name\n",
    "\n",
    "if __name__ == '__main__':\n",
    "    audit_amenity(osmfile)\n",
    "\n",
    "\n",
    "```\n"
   ]
  },
  {
   "cell_type": "markdown",
   "metadata": {},
   "source": [
    "# Incorrect Postal Code Format\n",
    "\n",
    "Separate the integers from character duplos with a space. Discard postal codes that are not in the correct Netherlands format, i.e., 1000 etc.\n",
    "\n",
    "* 1602NP to 1602 NP\n",
    "\n",
    "```python\n",
    "\"\"\"\n",
    "Discard postal codes that are not in the correct Netherlands format, i.e.,\n",
    "1000 AA, where 4 integers are followed by a space and then 2 letters.\n",
    " \n",
    "\"\"\"\n",
    "POSTCODE = re.compile(r'^[1-9][0-9]{3}\\s?[a-zA-Z]{2}$$')\n",
    "\n",
    "def clean_postcode(postcode):\n",
    "    m = POSTCODE.search(postcode)\n",
    "    if m:\n",
    "        if \" \" not in postcode:\n",
    "        # Add space in middle if there is none\n",
    "            postcode = postcode[:4] + \" \" + postcode[4:]\n",
    "        return postcode\n",
    "         # Ignore tag if improper postal code format\n",
    "    else:\n",
    "        if postcode != POSTCODE:\n",
    "            return None   \n",
    "\n",
    "```"
   ]
  },
  {
   "cell_type": "markdown",
   "metadata": {},
   "source": [
    "## Overview of the data\n",
    "\n",
    "## File Size \n",
    "\n",
    "\n",
    "| FileName                  | Size (GB)     | \n",
    "| ------------------------- |:-------------:| \n",
    "|amsterdam_netherlands.osm  | 3.15          |\n",
    "|nodes.csv                  | 1.02          |\n",
    "|nodes_tags.csv             | 0.08          | \n",
    "|ways.csv                   | 0.11          |\n",
    "|ways_nodes.csv             | 1.37          |\n",
    "|ways_tags.csv              | 0.26          |"
   ]
  },
  {
   "cell_type": "markdown",
   "metadata": {},
   "source": [
    "## Number Of Unique Users"
   ]
  },
  {
   "cell_type": "markdown",
   "metadata": {
    "collapsed": true
   },
   "source": [
    "```sql\n",
    "sqlite > SELECT COUNT(DISTINCT(e.uid))\n",
    "\t\tFROM (SELECT uid FROM Nodes UNION ALL SELECT uid FROM Ways) e;\n",
    "```"
   ]
  },
  {
   "cell_type": "markdown",
   "metadata": {
    "collapsed": true
   },
   "source": [
    "2766"
   ]
  },
  {
   "cell_type": "markdown",
   "metadata": {},
   "source": [
    "## Number Of Nodes"
   ]
  },
  {
   "cell_type": "markdown",
   "metadata": {
    "collapsed": true
   },
   "source": [
    "```sql\n",
    "sqlite> SELECT COUNT(*) \n",
    "        FROM nodes;s) e;\n",
    "```"
   ]
  },
  {
   "cell_type": "markdown",
   "metadata": {
    "collapsed": true
   },
   "source": [
    "12216610"
   ]
  },
  {
   "cell_type": "markdown",
   "metadata": {},
   "source": [
    "## Number Of Ways"
   ]
  },
  {
   "cell_type": "markdown",
   "metadata": {},
   "source": [
    "```sql\n",
    "sqlite> SELECT COUNT(*) \n",
    "        FROM ways;\n",
    "```"
   ]
  },
  {
   "cell_type": "markdown",
   "metadata": {
    "collapsed": true
   },
   "source": [
    "1770577"
   ]
  },
  {
   "cell_type": "markdown",
   "metadata": {},
   "source": [
    "## Top 10 Contributing Users"
   ]
  },
  {
   "cell_type": "markdown",
   "metadata": {
    "collapsed": true
   },
   "source": [
    "```sql\n",
    "sqlite> SELECT e.user, COUNT(*) as num\n",
    "        FROM (SELECT user FROM nodes UNION ALL SELECT user FROM ways) e\n",
    "        GROUP BY e.user\n",
    "        ORDER BY num DESC\n",
    "        LIMIT 10;\n",
    "```"
   ]
  },
  {
   "cell_type": "markdown",
   "metadata": {
    "collapsed": true
   },
   "source": [
    "\n",
    "| UserName      | UserID        | \n",
    "| ------------- |:-------------:| \n",
    "|florisje_BAG   |2263274        |\n",
    "|Plompy_BAG     |2195029        |\n",
    "|sebastic_BAG   |2178717        |\n",
    "|3dShapes       |1948248        |\n",
    "|rethna_BAG     |1767282        |\n",
    "|padvinder      |334624         |\n",
    "|PeeWee32_BAG   |310363         |\n",
    "|Zugführer_BAG  |299261         |\n",
    "|stroet43       |237945         |\n",
    "|Chiuaua_BAG    |212260         |\n"
   ]
  },
  {
   "cell_type": "markdown",
   "metadata": {},
   "source": [
    "## First Contribution"
   ]
  },
  {
   "cell_type": "markdown",
   "metadata": {
    "collapsed": true
   },
   "source": [
    "```sql\n",
    "sqlite> SELECT timestamp \n",
    "        FROM Nodes \n",
    "        UNION SELECT timestamp \n",
    "        From ways\n",
    "        ORDER BY timestamp\n",
    "        LIMIT 1;\n",
    "```"
   ]
  },
  {
   "cell_type": "markdown",
   "metadata": {
    "collapsed": true
   },
   "source": [
    "2007-04-01T16:49:46Z"
   ]
  },
  {
   "cell_type": "markdown",
   "metadata": {},
   "source": [
    "## List of Top 20 Amenities in Amsterdam"
   ]
  },
  {
   "cell_type": "markdown",
   "metadata": {
    "collapsed": true
   },
   "source": [
    "```sql\n",
    "sqlite> SELECT value, COUNT(*) as num\n",
    "        FROM nodes_tags \n",
    "        WHERE key='amenity' \n",
    "        GROUP BY value\n",
    "        ORDER BY num DESC \n",
    "        LIMIT 20;\n",
    "```"
   ]
  },
  {
   "cell_type": "markdown",
   "metadata": {},
   "source": [
    "\n",
    "| AmenityName    | TotalNumber   | \n",
    "| -------------  |:-------------:| \n",
    "|bench           |3548           |\n",
    "|restaurant      |1970           |\n",
    "|recycling       |1506           |\n",
    "|waste_basket    |1369           |\n",
    "|post_box        |957            |\n",
    "|fast_food       |834            |\n",
    "|parking         |751            |\n",
    "|cafe            |735            |\n",
    "|bicycle_parking |734            |\n",
    "|pub             |549            |\n",
    "|atm             |323            |\n",
    "|fuel            |292            |\n",
    "|school          |273            |\n",
    "|place_of_worship|219            |\n",
    "|bar             |181            |\n",
    "|charging_station|177            |\n",
    "|pharmacy        |175            |\n",
    "|vending_machine |170            |\n",
    "|toilets         |154            |\n",
    "|bank            |151            |\n"
   ]
  },
  {
   "cell_type": "markdown",
   "metadata": {},
   "source": [
    "## Most Popular Cuisines"
   ]
  },
  {
   "cell_type": "markdown",
   "metadata": {
    "collapsed": true
   },
   "source": [
    "```sql\n",
    "sqlite> SELECT nodes_tags.value, COUNT(*) as num\n",
    "        FROM nodes_tags\n",
    "            JOIN (SELECT DISTINCT(id) FROM nodes_tags WHERE value='restaurant') i\n",
    "            ON nodes_tags.id=i.id\n",
    "        WHERE nodes_tags.key='cuisine'\n",
    "        GROUP BY nodes_tags.value\n",
    "        ORDER BY num DESC\n",
    "        LIMIT 10;\n",
    "```\n"
   ]
  },
  {
   "cell_type": "markdown",
   "metadata": {
    "collapsed": true
   },
   "source": [
    "\n",
    "| RestName      | TotalNumber   | \n",
    "| ------------- |:-------------:| \n",
    "|italian        |140            |\n",
    "|chinese        |116            |\n",
    "|regional       |76             |\n",
    "|french         |62             |\n",
    "|international  |53             |\n",
    "|pizza          |49             |\n",
    "|japanese       |40             |\n",
    "|indonesian     |38             |\n",
    "|asian          |35             |\n"
   ]
  },
  {
   "cell_type": "markdown",
   "metadata": {},
   "source": [
    "## Most Popular Bank"
   ]
  },
  {
   "cell_type": "markdown",
   "metadata": {
    "collapsed": true
   },
   "source": [
    "```sql\n",
    "sqlite> SELECT nodes_tags.value, COUNT(*) as num\n",
    "        FROM nodes_tags\n",
    "            JOIN (SELECT DISTINCT(id) FROM nodes_tags WHERE value='bank') i\n",
    "            ON nodes_tags.id=i.id\n",
    "        WHERE nodes_tags.key='name'\n",
    "        GROUP BY nodes_tags.value\n",
    "        ORDER BY num DESC\n",
    "        LIMIT 5;\n",
    "```\n"
   ]
  },
  {
   "cell_type": "markdown",
   "metadata": {
    "collapsed": true
   },
   "source": [
    "\n",
    "| BankName      | TotalNumber   | \n",
    "| ------------- |:-------------:| \n",
    "|Rabobank       |48             |\n",
    "|ABN AMRO       |34             |\n",
    "|ING            |25             |\n",
    "|ABN Amro       |11             |\n",
    "|ING Bank       |9              |\n",
    "\n"
   ]
  },
  {
   "cell_type": "markdown",
   "metadata": {},
   "source": [
    "## Additional Ideas\n",
    "\n",
    "As I was running several queries like the ones above, I thought it would be interesting to check if the openstreetmap dataset for Liverpool provides website info for restaurants or pubs. So I run the query below in sqlite:"
   ]
  },
  {
   "cell_type": "markdown",
   "metadata": {},
   "source": [
    "## Total Bicycle Parking"
   ]
  },
  {
   "cell_type": "markdown",
   "metadata": {},
   "source": [
    "```sql\n",
    "SELECT COUNT(*)\n",
    "   \tFROM nodes_tags\n",
    "   \tWHERE value='bicycle_parking';\n",
    "```\n"
   ]
  },
  {
   "cell_type": "markdown",
   "metadata": {},
   "source": [
    "\n",
    "734"
   ]
  },
  {
   "cell_type": "markdown",
   "metadata": {},
   "source": [
    "## Top 5 Religions in Asterdam"
   ]
  },
  {
   "cell_type": "markdown",
   "metadata": {},
   "source": [
    "```sql\n",
    "SELECT nodes_tags.value, COUNT(*) as num\n",
    "           FROM nodes_tags \n",
    "            \t JOIN (SELECT DISTINCT(id) FROM nodes_tags WHERE value='place_of_worship') i \n",
    "             \tON nodes_tags.id=i.id \n",
    "           WHERE nodes_tags.key='religion' \n",
    "           GROUP BY nodes_tags.value \n",
    "           ORDER BY num DESC \n",
    "           LIMIT 5;\n",
    "```\n"
   ]
  },
  {
   "cell_type": "markdown",
   "metadata": {},
   "source": [
    "| Religion      | TotalNumber   | \n",
    "| ------------- |:-------------:| \n",
    "|christian      |177            |\n",
    "|muslim         |19             |\n",
    "|hindu          |8              |\n",
    "|jewish         |5              |\n",
    "|buddhist       |4              |"
   ]
  },
  {
   "cell_type": "markdown",
   "metadata": {},
   "source": [
    "## Challeneges \n",
    "\n",
    "It is clear that a significant effort has been undertaken by various users to contribute data to the Amsterdam OSM area. I believe it would be be really hard for OpenStreetMap project to implement some data quality rules for OSM that restrict the data to be entered. For example, they could include postal code rules (i.e. number of characters, character format (integer vs. alphabetical charactr at certain positions)) based on the known postal format of the Netherland. With cities and provinces, similar rules/restrictions could be put in place to ensure that users enter cities/provinces that actually exist. This could easily be checked against a database of existing cities and provinces for each country.\n",
    "\n",
    "Nontheless, as the perfect solution is not likely to be achievable in all cases, it is necessary for OpenStreetMap to understand and capture the priorities of the users and to use these to target resources in a cost-effective manner. Which means some open issues still must be taken into acccount, such as the  fitness for purpose of OSM data, the in \n",
    "influence of geography and participation on the project, the ability to continue to update the information, and licensing.\n",
    "\n",
    "It is well established fact that finding error is far harder than entering new data. So starting with a clean slate and adding data in is easier than starting from a dataset and discovering errors- especially when (like in this example) you'd be starting from the same dataset. Some other anticipated problems with implementing such changes would be rules that are too restrictive and end up blocking valid values. Additionally, such rules could discourage users from contributing data due to the added difficulty.\n",
    "\n",
    "The hardest problem for Amsterdam's entries is that half were written in English and the other half were written in Dutch (Despite that there was some guidelines explaining how to del with the local language issue). I had to do some rudimentary translation. The remaining problems were still more or less related to the 'uncleanliness' of the data, and were mostly dealt with using regular expressions, like catching phone numbers with wrong number of digits, standardising the formats for postcode, phone numbers, emails..etc.\n",
    "\n",
    "\n",
    "## Conclusion\n",
    "\n",
    "The Amsterdam OpenStreetMap dataset is a quite large and quite messy. While it is clear that the data is not 100% clean, I believe it was sufficiently cleaned for the purposes of this project. Via SQL query, I learned a few new things about my amsterdam. The dataset is very useful, though areas for improvement exist.\n",
    "\n",
    "The city and postcode values could be crosschecked when inputing a new address. Most countries have public APIs to retrieve addresses from postcodes, so it could be done, with the help of contributors around the world. This improvement could prevent a lot of wrong data inputs - there are many examples in the examined dataset - and it would make the process of analysing data related to cities considerably easier and more accurate. It would definitely cause a positive impact which would affect users througout the world. On the other hand, a change like this decreases the freedom of the user when inputing new addresses, since data could only be submitted if it was in accordance with the crosschecked value from another data source. These positive and negative impacts should be weighted before implementing this kind of improvement to the process.\n",
    "\n",
    "From the process of auditing we can see the dataset is fairly well-cleaned even though there are some minor error such as wrong street names and incosistent amenity names and postcodes. Since there are thousands of contributing users, so it is inevitable to have so many human input error. My thought is: is it possible to create a monitor system to check everybody’s contribution regularly. In addition, because OpenStreetMaps is an open source project, there’re still a lot of areas map to be improved on. I personally felt there should be some unique keys e.g for buststops or museums. They are quite generic and its beyond scope of this project to address those issues. So I hope OpenStreetMaps can obtain will improve on these areas."
   ]
  },
  {
   "cell_type": "markdown",
   "metadata": {
    "collapsed": true
   },
   "source": [
    "![](http://localhost:8888/notebooks/Documents/DataScientistLearningPath/GitHubProjects/Udacity_DataAnalystNanodegree/P3_Wrangle-OpenStreetMap-Data/windmill_amsterdam.png)"
   ]
  }
 ],
 "metadata": {
  "kernelspec": {
   "display_name": "Python 3",
   "language": "python",
   "name": "python3"
  },
  "language_info": {
   "codemirror_mode": {
    "name": "ipython",
    "version": 3
   },
   "file_extension": ".py",
   "mimetype": "text/x-python",
   "name": "python",
   "nbconvert_exporter": "python",
   "pygments_lexer": "ipython3",
   "version": "3.6.0"
  }
 },
 "nbformat": 4,
 "nbformat_minor": 2
}
